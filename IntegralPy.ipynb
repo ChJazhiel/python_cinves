{
 "cells": [
  {
   "cell_type": "code",
   "execution_count": 24,
   "metadata": {},
   "outputs": [
    {
     "data": {
      "text/plain": [
       "0.9956240366229846"
      ]
     },
     "execution_count": 24,
     "metadata": {},
     "output_type": "execute_result"
    }
   ],
   "source": [
    "import math\n",
    "import numpy as np\n",
    "from math import *\n",
    "\n",
    "def integrate(f,a,b,N):\n",
    "    x = np.linspace(a,b,N)\n",
    "    fx=f(x)\n",
    "    area=np.sum(fx)*(b-a)/N\n",
    "    return area\n",
    "integrate(np.sin,0,pi/2,50)\n"
   ]
  },
  {
   "cell_type": "code",
   "execution_count": 29,
   "metadata": {},
   "outputs": [
    {
     "name": "stdout",
     "output_type": "stream",
     "text": [
      "3.6799999999999997\n",
      "0.03618033988749895\n",
      "0.27974440894568686\n"
     ]
    }
   ],
   "source": [
    "import math\n",
    "def f0(x):\n",
    "    return 1\n",
    "def f1(x):\n",
    "    return math.sqrt(x)\n",
    "def f2(x):\n",
    "    return 4/(1+x**2)\n",
    "\n",
    "#defino la función que se encarga de calcular la integral por el método del trapecio\n",
    "def int_aprox_trap(f,xMin,xMax,numDiv):\n",
    "    deltaX=(xMax-xMin)/float(numDiv)\n",
    "    inte=(f(xMin)+f(xMax))/2.0\n",
    "    k=1\n",
    "    while k < numDiv:\n",
    "        inte += f(xMin + k*deltaX)\n",
    "        k += 1\n",
    "        return inte * deltaX\n",
    "    \n",
    "#algunas pruebas para testear\n",
    "print (int_aprox_trap(f0,4,22.4,10)) #regresa 18.4, el valor exacto\n",
    "print (int_aprox_trap(f1,0,1,20)) #regresa (2/3)\n",
    "print (int_aprox_trap(f2,0,1,25)) #regresa (pi)"
   ]
  },
  {
   "cell_type": "code",
   "execution_count": 31,
   "metadata": {
    "scrolled": true
   },
   "outputs": [
    {
     "name": "stdout",
     "output_type": "stream",
     "text": [
      "18.4\n",
      "0.664446591426642\n",
      "3.141325986931254\n"
     ]
    }
   ],
   "source": [
    "import math \n",
    "\n",
    " \n",
    "\n",
    "#defino algunas funciones de prueba \n",
    "\n",
    "def f0(x): \n",
    "\n",
    "    return 1 \n",
    "\n",
    "def f1(x): \n",
    "\n",
    "    return math.sqrt(x) \n",
    "\n",
    "def f2(x): \n",
    "\n",
    "    return 4 / (1 + x**2) \n",
    "\n",
    " \n",
    "\n",
    "#defino la funcion que se encarga de calcular la integral aproximadamente usando el método del trapecio \n",
    "\n",
    "def int_aprox_trap(f,xMin,xMax,numDiv): \n",
    "\n",
    "    deltaX=(xMax -xMin)/float(numDiv) \n",
    "\n",
    "    inte=(f(xMin) + f(xMax))/2.0 \n",
    "\n",
    "    k=1 \n",
    "\n",
    "    while k < numDiv: \n",
    "\n",
    "        inte += f(xMin + k*deltaX)  \n",
    "\n",
    "        k += 1 \n",
    "\n",
    "    return inte * deltaX \n",
    "\n",
    " \n",
    "\n",
    "#algunas pruebas para testear \n",
    "\n",
    "print (int_aprox_trap(f0,4,22.4,10)) #regresa 18.4, el valor exacto como corresponde \n",
    "\n",
    "print (int_aprox_trap(f1,0,1,20)) #regresa 0.664446591427 (2/3) \n",
    "\n",
    "print (int_aprox_trap(f2,0,1,25)) #regresa 3.14132598693  (pi) \n"
   ]
  },
  {
   "cell_type": "code",
   "execution_count": null,
   "metadata": {
    "collapsed": true
   },
   "outputs": [],
   "source": []
  }
 ],
 "metadata": {
  "kernelspec": {
   "display_name": "Python 3",
   "language": "python",
   "name": "python3"
  },
  "language_info": {
   "codemirror_mode": {
    "name": "ipython",
    "version": 3
   },
   "file_extension": ".py",
   "mimetype": "text/x-python",
   "name": "python",
   "nbconvert_exporter": "python",
   "pygments_lexer": "ipython3",
   "version": "3.6.2"
  }
 },
 "nbformat": 4,
 "nbformat_minor": 2
}
